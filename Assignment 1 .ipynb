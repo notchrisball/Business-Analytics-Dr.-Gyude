{
 "cells": [
  {
   "cell_type": "markdown",
   "id": "3cd68faf",
   "metadata": {},
   "source": [
    "# Write a program which randomly selects a number between 1 and 20. The user is then given 5 chances to guess the number correctly to win."
   ]
  },
  {
   "cell_type": "code",
   "execution_count": null,
   "id": "f2bfe17a",
   "metadata": {},
   "outputs": [
    {
     "name": "stdout",
     "output_type": "stream",
     "text": [
      "Guess number between 1 and 20. You have 5 tries!\n"
     ]
    }
   ],
   "source": [
    "import random \n",
    "\n",
    "number = random.randint(1,20)\n",
    "\n",
    "print(\"Guess number between 1 and 20. You have 5 tries!\")\n",
    "\n",
    "for i in range(6):\n",
    "    if i == 5:\n",
    "        print(\"Sorry, you ran out of tries.\")\n",
    "        print(\"The corect number was \", number)\n",
    "    else:\n",
    "        guess = int(input())\n",
    "        if guess == number:\n",
    "            print(\"You guessed it! You win!\")\n",
    "            break\n",
    "        elif i < 4:\n",
    "            print(\"Try again.\")\n",
    "        "
   ]
  },
  {
   "cell_type": "markdown",
   "id": "d8aa0709",
   "metadata": {},
   "source": [
    "# After each guess, print if the next guess should be lower or higher. For example, if the computer selection is 10 and the user input is 6, print guess a higher value."
   ]
  },
  {
   "cell_type": "code",
   "execution_count": null,
   "id": "c7f9d75d",
   "metadata": {},
   "outputs": [
    {
     "name": "stdout",
     "output_type": "stream",
     "text": [
      "Guess number between 1 and 20. You have 5 tries!\n",
      "5\n",
      "Try a lower number.\n",
      "4\n",
      "Try a lower number.\n",
      "3\n",
      "Try a lower number.\n",
      "2\n",
      "You guessed it! You win!\n"
     ]
    }
   ],
   "source": [
    "import random \n",
    "\n",
    "number = random.randint(1,20)\n",
    "\n",
    "print(\"Guess number between 1 and 20. You have 5 tries!\")\n",
    "\n",
    "for i in range(6):\n",
    "    if i == 5:\n",
    "        print(\"Sorry, you ran out of tries.\")\n",
    "        print(\"The corect number was \", number)\n",
    "    else:\n",
    "        guess = int(input())\n",
    "        if guess == number:\n",
    "            print(\"You guessed it! You win!\")\n",
    "        elif i < 4:\n",
    "            if guess < number:\n",
    "                print(\"Try a higher number.\")\n",
    "            if guess > number:\n",
    "                print(\"Try a lower number.\")\n",
    "           \n",
    "            "
   ]
  },
  {
   "cell_type": "markdown",
   "id": "90332098",
   "metadata": {},
   "source": [
    "# Rock Paper Scissors Lizard Spock"
   ]
  },
  {
   "cell_type": "code",
   "execution_count": null,
   "id": "3b8fcc4c",
   "metadata": {},
   "outputs": [],
   "source": [
    "import random \n",
    "\n",
    "print(\"Enter your move: Rock, Paper, Scissors, Lizard, or Spock\")\n",
    "user = input()\n",
    "\n",
    "computer_choice_text = \"The computer chose\"\n",
    "\n",
    "number = random.randint(1,5)\n",
    "if number == 1:\n",
    "    computer = \"Rock\" \n",
    "elif number == 2: \n",
    "    computer = \"Paper\"\n",
    "elif number == 3: \n",
    "    computer = \"Scissors\"\n",
    "elif number == 4: \n",
    "    computer = \"Lizard\"\n",
    "elif number == 5: \n",
    "    computer = \"Spock\"\n",
    "\n",
    "\n",
    "print(computer_choice_text + \" \" + computer + \"...\")\n",
    "\n",
    "if user == computer:\n",
    "    print(\"It's a Tie!\")\n",
    "elif user == \"Rock\" and computer == \"Scissors\": \n",
    "    print(\"Rock smashes Scissors! You Win!\")\n",
    "elif user == \"Rock\" and computer == \"Paper\": \n",
    "    print(\"Paper covers Rock. You lose..\")\n",
    "elif user == \"Scissors\" and computer == \"Paper\": \n",
    "    print(\"Scissors cut Paper! You Win!\")\n",
    "elif user == \"Paper\" and computer == \"Rock\": \n",
    "    print(\"Paper covers Rock! You Win!\")\n",
    "elif user == \"Paper\" and computer == \"Scissors\": \n",
    "    print(\"Scissors cut Paper. You lose..\")    \n",
    "elif user == \"Scissors\" and computer == \"Rock\": \n",
    "    print(\"Rock crushes Scissors. You lose..\")     \n",
    "elif user == \"Lizard\" and computer == \"Rock\": \n",
    "    print(\"Rock crushes Lizard. You lose..\")    \n",
    "elif user == \"Rock\" and computer == \"Lizard\": \n",
    "    print(\"Rock crushes Lizard! You Win!\")     \n",
    "elif user == \"Lizard\" and computer == \"Paper\": \n",
    "    print(\"Lizard eats Paper! You Win!\")     \n",
    "elif user == \"Paper\" and computer == \"Lizard\": \n",
    "    print(\"Lizard eats Paper. You Lose..\")     \n",
    "elif user == \"Lizard\" and computer == \"Spock\": \n",
    "    print(\"Lizard poisons Spock! You Win!\")      \n",
    "elif user == \"Spock\" and computer == \"Lizard\": \n",
    "    print(\"Lizard poisons Spock. You lose..\")     \n",
    "elif user == \"Spock\" and computer == \"Scissors\": \n",
    "    print(\"Spock smashes Scissors! You Win!\")     \n",
    "elif user == \"Scissors\" and computer == \"Spock\": \n",
    "    print(\"Spock smashes Scissors. You Lose..\")      \n",
    "elif user == \"Spock\" and computer == \"Rock\": \n",
    "    print(\"Spock vaporizes Rock! You Win!\")     \n",
    "elif user == \"Rock\" and computer == \"Spock\": \n",
    "    print(\"Spock vaporizes Rock. You Lose..\") \n",
    "elif user == \"Scissors\" and computer == \"Lizard\": \n",
    "    print(\"Scissors decapitates Lizard! You Win!\") \n",
    "elif user == \"Lizzard\" and computer == \"Scissors\": \n",
    "    print(\"Scissors decapitates Lizard. You lose..\") \n",
    "elif user == \"Spock\" and computer == \"Paper\": \n",
    "    print(\"Paper disproves Spock. You lose..\") \n",
    "elif user == \"Paper\" and computer == \"Spock\": \n",
    "    print(\"Paper disproves Spock! You Win!\")\n",
    "else:\n",
    "    print(\"Invalid Entry (hint: check spelling, capitalize the first lettter, do not include spaces or any additional charachters)\")\n",
    "    \n",
    "    \n",
    "    "
   ]
  },
  {
   "cell_type": "code",
   "execution_count": null,
   "id": "2371e568",
   "metadata": {},
   "outputs": [],
   "source": []
  },
  {
   "cell_type": "code",
   "execution_count": null,
   "id": "5d4f7b2a",
   "metadata": {},
   "outputs": [],
   "source": []
  }
 ],
 "metadata": {
  "kernelspec": {
   "display_name": "Python 3 (ipykernel)",
   "language": "python",
   "name": "python3"
  },
  "language_info": {
   "codemirror_mode": {
    "name": "ipython",
    "version": 3
   },
   "file_extension": ".py",
   "mimetype": "text/x-python",
   "name": "python",
   "nbconvert_exporter": "python",
   "pygments_lexer": "ipython3",
   "version": "3.9.12"
  }
 },
 "nbformat": 4,
 "nbformat_minor": 5
}
