{
 "cells": [
  {
   "cell_type": "markdown",
   "id": "cd39be16",
   "metadata": {},
   "source": [
    "# Write a program for flipping a coin 10,000 times and store the results in a list. After which, identify the number of streaks. (Using Arrays)"
   ]
  },
  {
   "cell_type": "code",
   "execution_count": 72,
   "id": "33357ffb",
   "metadata": {},
   "outputs": [
    {
     "name": "stdout",
     "output_type": "stream",
     "text": [
      "344\n"
     ]
    }
   ],
   "source": [
    "import random\n",
    "\n",
    "n_runs = 1\n",
    "flips_per_run = 10000\n",
    "total_instances = n_runs * flips_per_run\n",
    "coinFlip = []\n",
    "streak = 0\n",
    "numberOfStreaks = 0\n",
    "\n",
    "for experimentNumber in range(n_runs):\n",
    "    for i in range(flips_per_run):\n",
    "        coinFlip.append(random.randint(0,1))\n",
    "        if i==0:\n",
    "            pass\n",
    "        elif coinFlip[i] == coinFlip[i-1]:\n",
    "            streak += 1\n",
    "        else: \n",
    "            streak = 0\n",
    "\n",
    "        if streak >= 5:\n",
    "            numberOfStreaks += 1\n",
    "\n",
    "    coinFlip = []\n",
    "\n",
    "print(numberOfStreaks)   "
   ]
  },
  {
   "cell_type": "markdown",
   "id": "e06da656",
   "metadata": {},
   "source": [
    "# Write a program to take user inputs (number of swords, diamonds, gold coins, ropes and potions) for a video game and store them in a dictionary. After which print the following output."
   ]
  },
  {
   "cell_type": "code",
   "execution_count": 73,
   "id": "79b41047",
   "metadata": {},
   "outputs": [
    {
     "name": "stdout",
     "output_type": "stream",
     "text": [
      "Enter the number of swords: 2\n",
      "Enter the number of diamonds: 2\n",
      "Enter the number of gold coins: 2\n",
      "Enter the number of rope: 2\n",
      "Enter the number of potions: 2\n",
      "swords 2\n",
      "diamonds 2\n",
      "gold coins 2\n",
      "rope 2\n",
      "potions 2\n"
     ]
    }
   ],
   "source": [
    "items = ['swords','diamonds','gold coins','rope','potions']\n",
    "inventory = {}\n",
    "\n",
    "for item in items:\n",
    "    inventory[item] = int(input('Enter the number of {}: '.format(item)))\n",
    "\n",
    "for item,cnt in inventory.items():\n",
    "    print(item,cnt)"
   ]
  },
  {
   "cell_type": "markdown",
   "id": "74aa3e03",
   "metadata": {},
   "source": [
    "# Create a game "
   ]
  },
  {
   "cell_type": "code",
   "execution_count": 75,
   "id": "ec17b477",
   "metadata": {},
   "outputs": [
    {
     "name": "stdout",
     "output_type": "stream",
     "text": [
      "Winner for the following game is Player 1\n"
     ]
    }
   ],
   "source": [
    "import random\n",
    "\n",
    "num_iterations, num_players = 10,3\n",
    "scores = [0]*num_players \n",
    "\n",
    "for i in range(num_iterations):\n",
    "    for player in range(num_players):\n",
    "        scores[player] += random.randint(1,6) \n",
    "\n",
    "winner = max(enumerate(scores), key=lambda scores:scores[1])[0] + 1 \n",
    "print('Winner for the following game is Player {}'.format(winner))"
   ]
  },
  {
   "cell_type": "code",
   "execution_count": null,
   "id": "6401a661",
   "metadata": {},
   "outputs": [],
   "source": []
  }
 ],
 "metadata": {
  "kernelspec": {
   "display_name": "Python 3 (ipykernel)",
   "language": "python",
   "name": "python3"
  },
  "language_info": {
   "codemirror_mode": {
    "name": "ipython",
    "version": 3
   },
   "file_extension": ".py",
   "mimetype": "text/x-python",
   "name": "python",
   "nbconvert_exporter": "python",
   "pygments_lexer": "ipython3",
   "version": "3.9.12"
  }
 },
 "nbformat": 4,
 "nbformat_minor": 5
}
