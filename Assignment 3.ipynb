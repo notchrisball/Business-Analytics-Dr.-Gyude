{
 "cells": [
  {
   "cell_type": "code",
   "execution_count": 29,
   "id": "ada3aceb",
   "metadata": {},
   "outputs": [
    {
     "name": "stdout",
     "output_type": "stream",
     "text": [
      "Good\n"
     ]
    }
   ],
   "source": [
    "class Student:\n",
    "    \n",
    "    def __init__(self,first_name,last_name,country,overall_grade,credit_hours,major):\n",
    "        self.firstname=first_name\n",
    "        self.lastname=last_name\n",
    "        self.country=country\n",
    "        self.overallgrade=float(overall_grade)\n",
    "        self.credithours=int(credit_hours)\n",
    "        self.major=major\n",
    "        \n",
    "    def standing(self):\n",
    "        if(self.overallgrade>3 and self.credithours>20):\n",
    "            print(\"Good\")\n",
    "        elif(self.overallgrade>2.5 or (self.credithours>10 and self.credithours<20)):\n",
    "            print(\"Average\")\n",
    "        elif(self.overallgrade<2.5):\n",
    "            print(\"Bad\")\n",
    "            \n",
    "new_student = Student(\"Chris\",\"Ball\",\"Guatemala\",4,103,\"Business Analytics\")\n",
    "new_student.standing()\n",
    "\n"
   ]
  },
  {
   "cell_type": "code",
   "execution_count": 37,
   "id": "8992c09a",
   "metadata": {},
   "outputs": [
    {
     "name": "stdout",
     "output_type": "stream",
     "text": [
      "[5, 1, 0, 9, 3]\n",
      "[-6, -3, -2, -8]\n"
     ]
    }
   ],
   "source": [
    "def seperate(Data): \n",
    "  \n",
    "    positive = [ ] \n",
    "    negative = [ ] \n",
    "  \n",
    "   \n",
    "    for i in lst: \n",
    "        if i >= 0: \n",
    "            positive.append(i) \n",
    "        else: \n",
    "            negative.append(i) \n",
    "              \n",
    "    print(positive) \n",
    "    print(negative) \n",
    "  \n",
    "\n",
    "Data = [-6, 5, -3, -2, 1, 0, -8, 9, 3] \n",
    "seperate(Data)"
   ]
  },
  {
   "cell_type": "code",
   "execution_count": 48,
   "id": "04ecb38d",
   "metadata": {},
   "outputs": [
    {
     "name": "stdout",
     "output_type": "stream",
     "text": [
      "[[18, 0], [18, 1]]\n"
     ]
    }
   ],
   "source": [
    "def possible_combination(score):\n",
    "\n",
    " possibilities = []\n",
    " \n",
    " for i in range(15,21):\n",
    " \n",
    "  for j in range(2):\n",
    "  \n",
    "   if i == score:\n",
    "   \n",
    "    possibilities.append([i,j])\n",
    "    \n",
    " return possibilities\n",
    " \n",
    "print(possible_combination(18))"
   ]
  },
  {
   "cell_type": "markdown",
   "id": "0a7654b7",
   "metadata": {},
   "source": [
    "## the program sperating the positives and negatives has a complexity of O(n) "
   ]
  },
  {
   "cell_type": "markdown",
   "id": "44818f85",
   "metadata": {},
   "source": [
    "## The program for black jack has a complexity of O(n^2)"
   ]
  },
  {
   "cell_type": "code",
   "execution_count": null,
   "id": "22778f55",
   "metadata": {},
   "outputs": [],
   "source": []
  }
 ],
 "metadata": {
  "kernelspec": {
   "display_name": "Python 3 (ipykernel)",
   "language": "python",
   "name": "python3"
  },
  "language_info": {
   "codemirror_mode": {
    "name": "ipython",
    "version": 3
   },
   "file_extension": ".py",
   "mimetype": "text/x-python",
   "name": "python",
   "nbconvert_exporter": "python",
   "pygments_lexer": "ipython3",
   "version": "3.9.12"
  }
 },
 "nbformat": 4,
 "nbformat_minor": 5
}
